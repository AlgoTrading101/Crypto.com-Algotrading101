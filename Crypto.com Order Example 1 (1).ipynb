{
 "cells": [
  {
   "cell_type": "code",
   "execution_count": 9,
   "metadata": {},
   "outputs": [],
   "source": [
    "import json\n",
    "import time\n",
    "import hmac\n",
    "import hashlib\n",
    "import requests\n",
    "from time import sleep"
   ]
  },
  {
   "cell_type": "code",
   "execution_count": 2,
   "metadata": {},
   "outputs": [],
   "source": [
    "API_KEY = \"Your_API_Key_Here\"\n",
    "SECRET_KEY = \"Your_Secret_Key_Here\""
   ]
  },
  {
   "cell_type": "code",
   "execution_count": 11,
   "metadata": {},
   "outputs": [
    {
     "name": "stdout",
     "output_type": "stream",
     "text": [
      "The ETH did not reach the required price\n"
     ]
    },
    {
     "ename": "KeyboardInterrupt",
     "evalue": "",
     "output_type": "error",
     "traceback": [
      "\u001b[1;31m---------------------------------------------------------------------------\u001b[0m",
      "\u001b[1;31mKeyboardInterrupt\u001b[0m                         Traceback (most recent call last)",
      "\u001b[1;32m<ipython-input-11-706048a1373e>\u001b[0m in \u001b[0;36m<module>\u001b[1;34m\u001b[0m\n\u001b[0;32m      9\u001b[0m     \u001b[1;32mif\u001b[0m \u001b[0mfloat\u001b[0m\u001b[1;33m(\u001b[0m\u001b[0meth_price\u001b[0m\u001b[1;33m)\u001b[0m \u001b[1;33m!=\u001b[0m \u001b[1;36m1300.00\u001b[0m\u001b[1;33m:\u001b[0m\u001b[1;33m\u001b[0m\u001b[1;33m\u001b[0m\u001b[0m\n\u001b[0;32m     10\u001b[0m         \u001b[0mprint\u001b[0m\u001b[1;33m(\u001b[0m\u001b[1;34m'The ETH did not reach the required price'\u001b[0m\u001b[1;33m)\u001b[0m\u001b[1;33m\u001b[0m\u001b[1;33m\u001b[0m\u001b[0m\n\u001b[1;32m---> 11\u001b[1;33m         \u001b[0msleep\u001b[0m\u001b[1;33m(\u001b[0m\u001b[1;36m10\u001b[0m\u001b[1;33m)\u001b[0m\u001b[1;33m\u001b[0m\u001b[1;33m\u001b[0m\u001b[0m\n\u001b[0m\u001b[0;32m     12\u001b[0m         \u001b[1;32mcontinue\u001b[0m\u001b[1;33m\u001b[0m\u001b[1;33m\u001b[0m\u001b[0m\n\u001b[0;32m     13\u001b[0m \u001b[1;33m\u001b[0m\u001b[0m\n",
      "\u001b[1;31mKeyboardInterrupt\u001b[0m: "
     ]
    }
   ],
   "source": [
    "while True:\n",
    "    try:\n",
    "        data = requests.get('https://api.crypto.com/v2/public/get-ticker?instrument_name=ETH_USDT')\n",
    "        response = data.json()\n",
    "        eth_price = response['result']['data']['k']\n",
    "    except exception as e:\n",
    "        print('Error obtaining data')\n",
    "    \n",
    "    if float(eth_price) != 1300.00:\n",
    "        print('The ETH did not reach the required price')\n",
    "        sleep(10)\n",
    "        continue\n",
    "        \n",
    "    elif float(eth_price) == 1300.00:\n",
    "        try:\n",
    "            req = {\n",
    "             \"id\": 11,\n",
    "             \"method\": \"private/create-order\",\n",
    "             \"params\": {\n",
    "               \"instrument_name\": \"BTC_USDT\",\n",
    "               \"side\": \"BUY\",\n",
    "               \"type\": \"MARKET\",\n",
    "               \"quantity\": 5,\n",
    "               \"client_oid\": \"my_order_0002\",\n",
    "               \"time_in_force\": \"GOOD_TILL_CANCEL\",\n",
    "             },\n",
    "             \"nonce\": int(time.time() * 1000)\n",
    "            }\n",
    "\n",
    "            paramString = \"\"\n",
    "\n",
    "            if \"params\" in req:\n",
    "                  for key in sorted(req['params']):\n",
    "                    paramString += key\n",
    "                    paramString += str(req['params'][key])\n",
    "\n",
    "            sigPayload = req['method'] + str(req['id']) + req['api_key'] + paramString + str(req['nonce'])\n",
    "\n",
    "            req['sig'] = hmac.new(\n",
    "              bytes(str(secret_key), 'utf-8'),\n",
    "              msg=bytes(sigPayload, 'utf-8'),\n",
    "              digestmod=hashlib.sha256\n",
    "            ).hexdigest()\n",
    "            \n",
    "            order = requests.post('https://uat-api.3ona.co/v2/private/create-order', json=req, headers={'Content-Type':'application/json'})\n",
    "        except exception as e:\n",
    "            print('Error placing order at {}'.format(pd.Timestamp.now()))\n",
    "            \n",
    "        print(order)\n",
    "        sleep(2)\n",
    "\n",
    "        order_id = order['result']['id']\n",
    "\n",
    "        req = {\n",
    "            \"id\": 11,\n",
    "            \"method\": \"private/get-order-detail\",\n",
    "            \"params\": {\n",
    "                \"order_id\": order_id\n",
    "            },\n",
    "             \"nonce\": int(time.time() * 1000)\n",
    "            }\n",
    "\n",
    "        try:\n",
    "            order_check = requests.get('https://uat-api.3ona.co/v2/private/create-order', json=req, headers={'Content-Type':'application/json'})\n",
    "        except exception as e:\n",
    "            print('Error checking order')\n",
    "\n",
    "        if order_check['result']['order_info']['status'] == 'FILLED' or order_check['result']['order_info']['status'] == 'ACTIVE':\n",
    "            print ('Order placed at {}'.format(pd.Timestamp.now()))\n",
    "            break\n",
    "\n",
    "        else:\n",
    "            print('Order was canceled {}'.format(pd.Timestamp.now()))\n",
    "            break\n"
   ]
  },
  {
   "cell_type": "code",
   "execution_count": null,
   "metadata": {},
   "outputs": [],
   "source": []
  }
 ],
 "metadata": {
  "kernelspec": {
   "display_name": "Python 3",
   "language": "python",
   "name": "python3"
  },
  "language_info": {
   "codemirror_mode": {
    "name": "ipython",
    "version": 3
   },
   "file_extension": ".py",
   "mimetype": "text/x-python",
   "name": "python",
   "nbconvert_exporter": "python",
   "pygments_lexer": "ipython3",
   "version": "3.8.3"
  }
 },
 "nbformat": 4,
 "nbformat_minor": 4
}
